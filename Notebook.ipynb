{
 "cells": [
  {
   "cell_type": "markdown",
   "metadata": {},
   "source": [
    "# Machine Learning API Development Notebook\n",
    "\n",
    "Ce notebook contient le code de brouillon et les tests pour le développement de l'API de machine learning.\n"
   ]
  },
  {
   "cell_type": "markdown",
   "metadata": {},
   "source": [
    "## 1. Importation des Bibliothèques\n",
    "\n",
    "Nous importons les bibliothèques nécessaires pour le projet.\n"
   ]
  },
  {
   "cell_type": "code",
   "execution_count": 6,
   "metadata": {},
   "outputs": [],
   "source": [
    "import pandas as pd\n",
    "from sklearn.linear_model import LogisticRegression\n",
    "import joblib\n",
    "import requests\n"
   ]
  },
  {
   "cell_type": "markdown",
   "metadata": {},
   "source": [
    "## 2. Définition des Fonctions (function.py)\n",
    "\n",
    "Nous définissons les fonctions utilisées pour le prétraitement des données, l'entraînement du modèle, le chargement du modèle et la prédiction.\n"
   ]
  },
  {
   "cell_type": "code",
   "execution_count": 7,
   "metadata": {},
   "outputs": [],
   "source": [
    "def preprocess_data(features, labels=None):\n",
    "    \"\"\"\n",
    "    Function to preprocess input data for training or prediction.\n",
    "    :param features: List of feature lists.\n",
    "    :param labels: List of labels (optional, only for training).\n",
    "    :return: DataFrame for features, Series for labels (if provided).\n",
    "    \"\"\"\n",
    "    X = pd.DataFrame(features)\n",
    "    y = pd.Series(labels) if labels is not None else None\n",
    "    return X, y\n",
    "\n",
    "def train_model(features, labels, model_path=\"model/model.joblib\"):\n",
    "    \"\"\"\n",
    "    Function to train a logistic regression model and save it to a file.\n",
    "    :param features: DataFrame of features.\n",
    "    :param labels: Series of labels.\n",
    "    :param model_path: Path to save the trained model.\n",
    "    :return: Trained model.\n",
    "    \"\"\"\n",
    "    model = LogisticRegression(max_iter=200)\n",
    "    model.fit(features, labels)\n",
    "    joblib.dump(model, model_path)\n",
    "    return model\n",
    "\n",
    "def load_model(model_path=\"model/model.joblib\"):\n",
    "    \"\"\"\n",
    "    Function to load a trained model from a file.\n",
    "    :param model_path: Path to the saved model.\n",
    "    :return: Loaded model.\n",
    "    \"\"\"\n",
    "    model = joblib.load(model_path)\n",
    "    return model\n",
    "\n",
    "def predict(model, features):\n",
    "    \"\"\"\n",
    "    Function to make predictions using a trained model.\n",
    "    :param model: Trained model.\n",
    "    :param features: DataFrame of features.\n",
    "    :return: List of predictions.\n",
    "    \"\"\"\n",
    "    predictions = model.predict(features)\n",
    "    return predictions.tolist()\n"
   ]
  },
  {
   "cell_type": "markdown",
   "metadata": {},
   "source": [
    "## 3. Tests des Fonctions\n",
    "\n",
    "Nous créons un jeu de données fictif, prétraitons les données, entraînons le modèle, chargeons le modèle et effectuons des prédictions pour vérifier le bon fonctionnement des fonctions.\n"
   ]
  },
  {
   "cell_type": "code",
   "execution_count": null,
   "metadata": {},
   "outputs": [],
   "source": [
    "# Création d'un jeu de données fictif\n",
    "features = [\n",
    "    [2.3, 4.5, 1.2, 0, 1, 0.1, 0.2],\n",
    "    [3.4, 1.2, 0.5, 1, 0, 0.4, 0.7],\n",
    "    [1.2, 3.4, 2.2, 0, 1, 0.3, 1.1],\n",
    "    [0.5, 0.8, 1.5, 1, 0, 0.9, 1.4],\n",
    "    [1.5, 1.8, 0.9, 0, 1, 0.2, 0.7]\n",
    "]\n",
    "labels = [1, 0, 1, 0, 1]\n",
    "\n",
    "# Prétraitement des données\n",
    "X, y = preprocess_data(features, labels)\n",
    "X, y\n"
   ]
  },
  {
   "cell_type": "markdown",
   "metadata": {},
   "source": [
    "### Entraînement du modèle\n"
   ]
  },
  {
   "cell_type": "code",
   "execution_count": null,
   "metadata": {},
   "outputs": [],
   "source": [
    "# Entraînement du modèle\n",
    "model = train_model(X, y, model_path=\"model/model.joblib\")\n",
    "model\n"
   ]
  },
  {
   "cell_type": "markdown",
   "metadata": {},
   "source": [
    "### Chargement du modèle et prédiction\n"
   ]
  },
  {
   "cell_type": "code",
   "execution_count": null,
   "metadata": {},
   "outputs": [],
   "source": [
    "# Chargement du modèle et prédiction\n",
    "loaded_model = load_model(model_path=\"model/model.joblib\")\n",
    "predictions = predict(loaded_model, X)\n",
    "predictions\n"
   ]
  },
  {
   "cell_type": "markdown",
   "metadata": {},
   "source": [
    "## 4. Utilisation de l'API (app.py)\n",
    "\n",
    "Nous montrons comment l'API est utilisée pour l'entraînement du modèle et les prédictions.\n"
   ]
  },
  {
   "cell_type": "code",
   "execution_count": null,
   "metadata": {},
   "outputs": [],
   "source": [
    "import streamlit as st\n",
    "import requests\n",
    "import pandas as pd\n",
    "\n",
    "st.title(\"Machine Learning API Interface\")\n",
    "st.markdown(\"\"\"\n",
    "    ### Documentation\n",
    "    - [Swagger UI](http://localhost:8000/docs)\n",
    "    - [ReDoc](http://localhost:8000/redoc)\n",
    "\"\"\")\n",
    "\n",
    "# Entraînement du modèle\n",
    "st.header(\"Train Model\")\n",
    "\n",
    "uploaded_file = st.file_uploader(\"Upload CSV\", type=[\"csv\"])\n",
    "\n",
    "if uploaded_file is not None:\n",
    "    data = pd.read_csv(uploaded_file)\n",
    "    st.write(\"Data preview:\", data.head())\n",
    "\n",
    "    if st.button(\"Train Model\"):\n",
    "        features = data.iloc[:, :-1].values.tolist()\n",
    "        labels = data.iloc[:, -1].tolist()\n",
    "\n",
    "        response = requests.post(\"http://localhost:8000/training\", json={\"features\": features, \"labels\": labels})\n",
    "        \n",
    "        if response.status_code == 200:\n",
    "            st.success(\"Model trained successfully\")\n",
    "        else:\n",
    "            st.error(\"Error training model: \" + response.text)\n",
    "\n",
    "# Prédiction\n",
    "st.header(\"Make Prediction\")\n",
    "st.write(\"Example input format: `6, 148, 72, 35, 0, 33.6, 0.627, 50`\")\n",
    "\n",
    "prediction_data = st.text_area(\"Enter data for prediction (comma-separated values for each feature)\")\n",
    "\n",
    "if 'predictions' not in st.session_state:\n",
    "    st.session_state['predictions'] = None\n",
    "\n",
    "if st.button(\"Predict\"):\n",
    "    try:\n",
    "        features = [list(map(float, prediction_data.split(',')))]\n",
    "        st.write(\"Sending features to API:\", features)\n",
    "        response = requests.post(\"http://localhost:8000/predict\", json={\"features\": features})\n",
    "        \n",
    "        if response.status_code == 200:\n",
    "            st.session_state['predictions'] = response.json()[\"predictions\"]\n",
    "        else:\n",
    "            st.error(\"Error making prediction: \" + response.text)\n",
    "    except ValueError as e:\n",
    "        st.error(f\"Please enter valid data: {e}\")\n",
    "\n",
    "# Affichage des prédictions si elles existent\n",
    "if st.session_state['predictions'] is not None:\n",
    "    st.write(\"Prediction:\", st.session_state['predictions'])\n",
    "\n",
    "st.header(\"Model Info\")\n",
    "response = requests.get(\"http://localhost:8000/model\")\n",
    "\n",
    "if response.status_code == 200:\n",
    "    model_info = response.json()\n",
    "    st.write(\"Model:\", model_info[\"model\"])\n",
    "    st.write(\"Library:\", model_info[\"library\"])\n",
    "else:\n",
    "    st.error(\"Error fetching model info: \" + response.text)\n"
   ]
  },
  {
   "cell_type": "markdown",
   "metadata": {},
   "source": [
    "## 5. Tests API\n",
    "\n",
    "Nous testons les endpoints de l'API en envoyant des requêtes POST pour entraîner le modèle et faire des prédictions.\n"
   ]
  },
  {
   "cell_type": "code",
   "execution_count": null,
   "metadata": {},
   "outputs": [],
   "source": [
    "# Test de l'API d'entraînement\n",
    "training_data = {\n",
    "    \"features\": features,\n",
    "    \"labels\": labels\n",
    "}\n",
    "response = requests.post(\"http://localhost:8000/training\", json=training_data)\n",
    "print(\"Training response:\", response.json())\n"
   ]
  },
  {
   "cell_type": "code",
   "execution_count": null,
   "metadata": {},
   "outputs": [],
   "source": [
    "# Test de l'API de prédiction\n",
    "prediction_data = {\n",
    "    \"features\": features\n",
    "}\n",
    "response = requests.post(\"http://localhost:8000/predict\", json=prediction_data)\n",
    "print(\"Prediction response:\", response.json())\n"
   ]
  }
 ],
 "metadata": {
  "kernelspec": {
   "display_name": "Python 3",
   "language": "python",
   "name": "python3"
  },
  "language_info": {
   "codemirror_mode": {
    "name": "ipython",
    "version": 3
   },
   "file_extension": ".py",
   "mimetype": "text/x-python",
   "name": "python",
   "nbconvert_exporter": "python",
   "pygments_lexer": "ipython3",
   "version": "3.12.4"
  }
 },
 "nbformat": 4,
 "nbformat_minor": 2
}
